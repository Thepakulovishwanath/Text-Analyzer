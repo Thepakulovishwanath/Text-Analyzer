{
 "cells": [
  {
   "cell_type": "code",
   "execution_count": 27,
   "id": "78b38cc6-92e2-40c0-b2e2-0b8ae6159468",
   "metadata": {},
   "outputs": [
    {
     "name": "stdin",
     "output_type": "stream",
     "text": [
      "Enter a Paragraph of text:  Currently, there's no check on whether the email provided is in a valid format. Although this is not a critical issue, adding email validation would enhance the functionality.\n"
     ]
    },
    {
     "name": "stdout",
     "output_type": "stream",
     "text": [
      "\n",
      "Enter 1 to Count the Number of Characters: \n",
      "Enter 2 to Find the Unique Words: \n",
      "Enter 3 to Know the word frequency: \n",
      "Enter 4 to Exit\n"
     ]
    },
    {
     "name": "stdin",
     "output_type": "stream",
     "text": [
      "Enter a number:  1\n"
     ]
    },
    {
     "name": "stdout",
     "output_type": "stream",
     "text": [
      "The string \n",
      "'Currently, there's no check on whether the email provided is in a valid format. Although this is not a critical issue, adding email validation would enhance the functionality.' \n",
      "Has 148 characters.\n",
      "\n",
      "Enter 1 to Count the Number of Characters: \n",
      "Enter 2 to Find the Unique Words: \n",
      "Enter 3 to Know the word frequency: \n",
      "Enter 4 to Exit\n"
     ]
    },
    {
     "name": "stdin",
     "output_type": "stream",
     "text": [
      "Enter a number:  2\n"
     ]
    },
    {
     "name": "stdout",
     "output_type": "stream",
     "text": [
      "Unique words: {'whether', 'enhance', 'this', 'a', 'functionality.', 'Currently,', 'valid', 'issue,', 'format.', 'on', 'email', 'not', 'is', 'adding', 'validation', 'would', 'the', 'Although', 'provided', 'in', 'no', 'check', \"there's\", 'critical'}\n",
      "\n",
      "Enter 1 to Count the Number of Characters: \n",
      "Enter 2 to Find the Unique Words: \n",
      "Enter 3 to Know the word frequency: \n",
      "Enter 4 to Exit\n"
     ]
    },
    {
     "name": "stdin",
     "output_type": "stream",
     "text": [
      "Enter a number:  3\n"
     ]
    },
    {
     "name": "stdout",
     "output_type": "stream",
     "text": [
      "Word frequency:\n",
      "currently,: 1\n",
      "there's: 1\n",
      "no: 1\n",
      "check: 1\n",
      "on: 1\n",
      "whether: 1\n",
      "the: 2\n",
      "email: 2\n",
      "provided: 1\n",
      "is: 2\n",
      "in: 1\n",
      "a: 2\n",
      "valid: 1\n",
      "format.: 1\n",
      "although: 1\n",
      "this: 1\n",
      "not: 1\n",
      "critical: 1\n",
      "issue,: 1\n",
      "adding: 1\n",
      "validation: 1\n",
      "would: 1\n",
      "enhance: 1\n",
      "functionality.: 1\n",
      "\n",
      "Enter 1 to Count the Number of Characters: \n",
      "Enter 2 to Find the Unique Words: \n",
      "Enter 3 to Know the word frequency: \n",
      "Enter 4 to Exit\n"
     ]
    },
    {
     "name": "stdin",
     "output_type": "stream",
     "text": [
      "Enter a number:  4\n"
     ]
    },
    {
     "name": "stdout",
     "output_type": "stream",
     "text": [
      "Exiting the program.\n"
     ]
    }
   ],
   "source": [
    "# Function to count the number of characters in the string excluding spaces\n",
    "def Count_Char(string):\n",
    "    count = len(string.replace(\" \", \"\"))  # Removes spaces and counts the remaining characters\n",
    "    print(f\"The String \\n'{string}' \\nHas {count} characters.\")\n",
    "\n",
    "# Function to find and display unique words in the string\n",
    "def Unique_Char(string):\n",
    "    words = string.split()  # Splits the string into words (default split is by spaces)\n",
    "    set1 = set(words)  # Converts the list of words into a set, which automatically removes duplicates\n",
    "    print(f\"Unique words: {set1}\")\n",
    "\n",
    "# Function to calculate the frequency of each word in the string\n",
    "def Word_freq(string):\n",
    "    words = string.split()  # Splits the string into words\n",
    "    freq_dict = {}  # Initialize an empty dictionary to store word frequencies\n",
    "    for word in words:\n",
    "        word = word.lower()  # Convert words to lowercase for case-insensitive comparison\n",
    "        if word in freq_dict:\n",
    "            freq_dict[word] += 1  # If the word is already in the dictionary, increment its count\n",
    "        else:\n",
    "            freq_dict[word] = 1  # If the word is not in the dictionary, add it with count 1\n",
    "    print(\"Word frequency:\")\n",
    "    for word, freq in freq_dict.items():  # Iterate over the dictionary to print word frequencies\n",
    "        print(f\"{word}: {freq}\")\n",
    "\n",
    "# Main function that interacts with the user and calls other functions based on the user's choice\n",
    "def main():\n",
    "    string = input(\"Enter a Paragraph of text: \")  # Accepts input from the user\n",
    "    while True:  # Infinite loop to keep showing the menu until the user decides to exit\n",
    "        # Displaying menu options\n",
    "        print(\"\\nEnter 1 to Count the Number of Characters: \")\n",
    "        print(\"Enter 2 to Find the Unique Words: \")\n",
    "        print(\"Enter 3 to Know the Word Frequency: \")\n",
    "        print(\"Enter 4 to Exit\")\n",
    "        try:\n",
    "            # Accepting user input for menu choice and converting it to an integer\n",
    "            num = int(input(\"Enter a number: \"))\n",
    "            if num == 1:\n",
    "                Count_Char(string)  # Call function to count characters\n",
    "            elif num == 2:\n",
    "                Unique_Char(string)  # Call function to find unique words\n",
    "            elif num == 3:\n",
    "                Word_freq(string)  # Call function to find word frequency\n",
    "            elif num == 4:\n",
    "                print(\"Exiting the program.\")\n",
    "                break  # Exit the loop if the user chooses option 4\n",
    "            else:\n",
    "                print(\"Invalid input. Please enter 1, 2, 3, or 4.\")  # Handling invalid numeric input\n",
    "        except ValueError:\n",
    "            # Handling the case where user input is not a number\n",
    "            print(\"Invalid input. Please enter a number.\")\n",
    "\n",
    "# Calling the main function to run the program\n",
    "main()\n"
   ]
  },
  {
   "cell_type": "code",
   "execution_count": null,
   "id": "9beeeecd-468c-4490-ba2e-f55bcd5efcea",
   "metadata": {},
   "outputs": [],
   "source": []
  }
 ],
 "metadata": {
  "kernelspec": {
   "display_name": "Python 3 (ipykernel)",
   "language": "python",
   "name": "python3"
  },
  "language_info": {
   "codemirror_mode": {
    "name": "ipython",
    "version": 3
   },
   "file_extension": ".py",
   "mimetype": "text/x-python",
   "name": "python",
   "nbconvert_exporter": "python",
   "pygments_lexer": "ipython3",
   "version": "3.12.4"
  }
 },
 "nbformat": 4,
 "nbformat_minor": 5
}
